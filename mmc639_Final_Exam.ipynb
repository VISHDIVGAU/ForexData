{
 "cells": [
  {
   "cell_type": "code",
   "execution_count": 6,
   "id": "be2b6bb7",
   "metadata": {},
   "outputs": [],
   "source": [
    "from currency_conversion import TrailingStopsData2\n",
    "import pycaret\n",
    "from pycaret.regression import *"
   ]
  },
  {
   "cell_type": "code",
   "execution_count": 9,
   "id": "42e17eca",
   "metadata": {},
   "outputs": [],
   "source": [
    "def main():\n",
    "    \"\"\"\n",
    "    # instantiate object of TrailingStopsData class and call trailing_forexdata()() method\n",
    "    # trailing_forexdata() method will call polygon api every other second for 10 hours.\n",
    "    # it will create final_trailingstops_updated.db sqlite file which will contains _agg tables each currency pair, and _sell tables for currency we are selling and _bought tables for currency we are buying\n",
    "    # As of now we have following currency pairs defined in forex_data.py library\n",
    "    self.currency_pairs = [ [\"AUD\",\"USD\",{'upper': list(), 'lower': list()},0,100],\n",
    "                            [\"EUR\",\"USD\",{'upper': list(), 'lower': list()},0,100],\n",
    "                            [\"CAD\",\"USD\",{'upper': list(), 'lower': list()},0,100],\n",
    "                            [\"JPY\",\"USD\",{'upper': list(), 'lower': list()},0,100],\n",
    "                            [\"CNY\",\"USD\",{'upper': list(), 'lower': list()},0,100],\n",
    "                            [\"GBP\",\"USD\",{'upper': list(), 'lower': list()},0,100],\n",
    "                            [\"MXN\",\"USD\",{'upper': list(), 'lower': list()},0,100],\n",
    "                            [\"CZK\",\"USD\",{'upper': list(), 'lower': list()},0,100],\n",
    "                            [\"PLN\",\"USD\",{'upper': list(), 'lower': list()},0,100],\n",
    "                            [\"INR\",\"USD\",{'upper': list(), 'lower': list()},0,100]\n",
    "                        ]\n",
    "\n",
    "\n",
    "    # Currency we are selling are\n",
    "    # self.short=[\"GBP\",\"MXN\",\"CZK\",\"PLN\",\"INR\"]\n",
    "    # Currency we are buying are\n",
    "    # self.long= [\"AUD\",\"EUR\",\"CAD\",\"JPY\",\"CNY\"]\n",
    "    \"\"\"\n",
    "    data= TrailingStopsData2()\n",
    "    data.sorting_one()\n",
    "    for df in data.dfs:\n",
    "        reg= setup(data= df, target= 'return')\n",
    "        print(reg)\n",
    "        compare_models()"
   ]
  }
 ],
 "metadata": {
  "kernelspec": {
   "display_name": "Python 3 (ipykernel)",
   "language": "python",
   "name": "python3"
  },
  "language_info": {
   "codemirror_mode": {
    "name": "ipython",
    "version": 3
   },
   "file_extension": ".py",
   "mimetype": "text/x-python",
   "name": "python",
   "nbconvert_exporter": "python",
   "pygments_lexer": "ipython3",
   "version": "3.9.15"
  }
 },
 "nbformat": 4,
 "nbformat_minor": 5
}
